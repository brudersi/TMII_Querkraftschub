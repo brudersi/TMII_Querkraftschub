{
 "cells": [
  {
   "metadata": {},
   "cell_type": "markdown",
   "source": [
    "# Jupyter Notebook to compute different versions of equations\n",
    "\n",
    "\n",
    "To learn more about Jupyter Notebooks in PyCharm, see [help](https://www.jetbrains.com/help/pycharm/ipython-notebook-support.html).\n",
    "For an overview of PyCharm, go to Help -> Learn IDE features or refer to [our documentation](https://www.jetbrains.com/help/pycharm/getting-started.html)."
   ],
   "id": "8a77807f92f26ee"
  },
  {
   "metadata": {},
   "cell_type": "markdown",
   "source": [
    "\n",
    "In der folgenden Zelle wird die Gleichung des Schubmittelpunkts in verschiedenen Versionen berechnet. D.h. es werden verscheidene Werte der Laufwariablen verwendet."
   ],
   "id": "cdaeb70e4fb095c7"
  },
  {
   "metadata": {
    "ExecuteTime": {
     "end_time": "2025-06-03T18:38:02.943390Z",
     "start_time": "2025-06-03T18:38:01.975798Z"
    }
   },
   "cell_type": "code",
   "source": "import sympy",
   "id": "31f6a4555234c947",
   "outputs": [],
   "execution_count": 1
  },
  {
   "metadata": {
    "ExecuteTime": {
     "end_time": "2025-06-03T18:38:03.005889Z",
     "start_time": "2025-06-03T18:38:02.952889Z"
    }
   },
   "cell_type": "code",
   "source": [
    "b_s1, b_s2, b_s3 = sympy.symbols('b_s1 b_s2 b_s3')\n",
    "bs, bg = sympy.symbols('bs bg')\n",
    "AF_1, AF_2, AF_3 = sympy.symbols('AF_1 AF_2 AF_3')\n",
    "z_s1, z_s2, z_s3 = sympy.symbols('z_s1 z_s2 z_s3')\n",
    "S1, S2, S3 = sympy.symbols('S1 S2 S3')\n",
    "H, B = sympy.symbols('H B')\n",
    "Iy = sympy.symbols('Iy')\n",
    "ySM = sympy.symbols('y_SM')\n",
    "\n",
    "b_s1 = b_s3 = bg\n",
    "b_s2 = bs\n",
    "\n",
    "AF_1 = H * S1 / 4\n",
    "AF_2 = H * B / 4\n",
    "AF_3 = H * (B + S3) / 4\n",
    "\n",
    "z_s1 = -H /2\n",
    "z_s2 = S2 - H / 2\n",
    "z_s3 = H / 2"
   ],
   "id": "a42d447da112fa9",
   "outputs": [],
   "execution_count": 2
  },
  {
   "metadata": {
    "ExecuteTime": {
     "end_time": "2025-06-03T18:38:21.436184Z",
     "start_time": "2025-06-03T18:38:21.428183Z"
    }
   },
   "cell_type": "code",
   "source": [
    "y_SM = (2 / Iy) * (sympy.integrate(z_s1 * AF_1 * b_s1, (S1, 0, B))  + sympy.integrate(z_s2 * AF_2 * b_s2, (S2, 0, H))  + sympy.integrate(z_s3 * AF_3 * b_s3, (S3, 0, B)))\n",
    "display(sympy.simplify(y_SM))"
   ],
   "id": "c373618a43b127a3",
   "outputs": [
    {
     "data": {
      "text/plain": [
       "B**2*H**2*bg/(4*Iy)"
      ],
      "text/latex": "$\\displaystyle \\frac{B^{2} H^{2} bg}{4 Iy}$"
     },
     "metadata": {},
     "output_type": "display_data"
    }
   ],
   "execution_count": 4
  }
 ],
 "metadata": {
  "kernelspec": {
   "display_name": "Python [conda env:base] *",
   "language": "python",
   "name": "conda-base-py"
  },
  "language_info": {
   "codemirror_mode": {
    "name": "ipython",
    "version": 2
   },
   "file_extension": ".py",
   "mimetype": "text/x-python",
   "name": "python",
   "nbconvert_exporter": "python",
   "pygments_lexer": "ipython2",
   "version": "2.7.6"
  }
 },
 "nbformat": 4,
 "nbformat_minor": 5
}
